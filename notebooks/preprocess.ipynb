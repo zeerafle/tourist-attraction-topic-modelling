{
 "cells": [
  {
   "cell_type": "code",
   "execution_count": 23,
   "metadata": {
    "collapsed": true
   },
   "outputs": [],
   "source": [
    "import os\n",
    "\n",
    "import pandas as pd\n",
    "import contractions\n",
    "\n",
    "from trip_adivsor.constants import REVIEWS_DATA_PATH, PLACES_DATA_PATH, ROOT"
   ]
  },
  {
   "cell_type": "markdown",
   "source": [
    "## Load Data\n",
    "\n",
    "Data was scraped on TripAdvisor using selenium. The data consist of two file; one for the places contains id, name, and rating; and the other one is for the review that contains the places' id (for referencing later), review title, review description, and its rating."
   ],
   "metadata": {
    "collapsed": false
   }
  },
  {
   "cell_type": "code",
   "execution_count": 4,
   "outputs": [
    {
     "data": {
      "text/plain": "            place_id                              title  \\\n0  g3346467-d3247659                      Worth a visit   \n1  g3346467-d3247659                     Cute Jellyfish   \n2  g3346467-d3247659  Swimming with stingless jellyfish   \n3  g3346467-d3247659                               wow!   \n4  g3346467-d3247659                     Great place!!!   \n\n                                         description  rating  \n0  Definitely worth a visit, try not to come on S...     5.0  \n1  We have so much fun, swimming with the jelly f...     4.0  \n2  One place to swiming with stingless jellyfish....     5.0  \n3  Breathtaking, spectacular, unique! You cannot ...     5.0  \n4  You gotta go to this place to have a look at j...     4.0  ",
      "text/html": "<div>\n<style scoped>\n    .dataframe tbody tr th:only-of-type {\n        vertical-align: middle;\n    }\n\n    .dataframe tbody tr th {\n        vertical-align: top;\n    }\n\n    .dataframe thead th {\n        text-align: right;\n    }\n</style>\n<table border=\"1\" class=\"dataframe\">\n  <thead>\n    <tr style=\"text-align: right;\">\n      <th></th>\n      <th>place_id</th>\n      <th>title</th>\n      <th>description</th>\n      <th>rating</th>\n    </tr>\n  </thead>\n  <tbody>\n    <tr>\n      <th>0</th>\n      <td>g3346467-d3247659</td>\n      <td>Worth a visit</td>\n      <td>Definitely worth a visit, try not to come on S...</td>\n      <td>5.0</td>\n    </tr>\n    <tr>\n      <th>1</th>\n      <td>g3346467-d3247659</td>\n      <td>Cute Jellyfish</td>\n      <td>We have so much fun, swimming with the jelly f...</td>\n      <td>4.0</td>\n    </tr>\n    <tr>\n      <th>2</th>\n      <td>g3346467-d3247659</td>\n      <td>Swimming with stingless jellyfish</td>\n      <td>One place to swiming with stingless jellyfish....</td>\n      <td>5.0</td>\n    </tr>\n    <tr>\n      <th>3</th>\n      <td>g3346467-d3247659</td>\n      <td>wow!</td>\n      <td>Breathtaking, spectacular, unique! You cannot ...</td>\n      <td>5.0</td>\n    </tr>\n    <tr>\n      <th>4</th>\n      <td>g3346467-d3247659</td>\n      <td>Great place!!!</td>\n      <td>You gotta go to this place to have a look at j...</td>\n      <td>4.0</td>\n    </tr>\n  </tbody>\n</table>\n</div>"
     },
     "execution_count": 4,
     "metadata": {},
     "output_type": "execute_result"
    }
   ],
   "source": [
    "df = pd.read_csv(REVIEWS_DATA_PATH, sep='\\t')\n",
    "df.head()"
   ],
   "metadata": {
    "collapsed": false
   }
  },
  {
   "cell_type": "code",
   "execution_count": 6,
   "outputs": [
    {
     "data": {
      "text/plain": "'Derawan Island offers a great experience. It has beautiful white sand beach, great spot to snorkling or diving, great nature to take picture, yummy culinary, and nice people. I found turtle lied egg at night aproximately at 01 AM in front of my door cottage. I spend the night at Derawan Dive Resort. It was great travelling.'"
     },
     "execution_count": 6,
     "metadata": {},
     "output_type": "execute_result"
    }
   ],
   "source": [
    "df.description[89]"
   ],
   "metadata": {
    "collapsed": false
   }
  },
  {
   "cell_type": "markdown",
   "source": [
    "## Text Cleaning\n",
    "\n",
    "For text cleaning, since we're planning to use pre-trained model BERT, we don't need a lot of heavy cleaning such removing stopwords or stemming. Otherwise it will lose its contextual, semantic meaning. The text cleaning process includes:\n",
    "- Make text lowercase\n",
    "- Remove contracted words"
   ],
   "metadata": {
    "collapsed": false
   }
  },
  {
   "cell_type": "code",
   "execution_count": null,
   "outputs": [],
   "source": [
    "def clean_text(x):\n",
    "    x = str(x).lower()\n",
    "    x = contractions.fix(x)\n",
    "    return x"
   ],
   "metadata": {
    "collapsed": false
   }
  },
  {
   "cell_type": "code",
   "execution_count": 18,
   "outputs": [],
   "source": [
    "df_clean = df.copy()\n",
    "df_clean['description'] = df_clean['description'].apply(clean_text)\n",
    "df_clean['title'] = df_clean['title'].apply(clean_text)"
   ],
   "metadata": {
    "collapsed": false
   }
  },
  {
   "cell_type": "code",
   "execution_count": 21,
   "outputs": [
    {
     "data": {
      "text/plain": "'derawan archipelago is a great destination trip! you can go to maratua, kakaban, labuan cermin, whale shark dive & and other activities! the downside is you need 1-2 hours to move from one island to another island! very recommended for people who love island hoping!'"
     },
     "execution_count": 21,
     "metadata": {},
     "output_type": "execute_result"
    }
   ],
   "source": [
    "df_clean.description[88]"
   ],
   "metadata": {
    "collapsed": false
   }
  },
  {
   "cell_type": "markdown",
   "source": [
    "## Export Cleaned Text"
   ],
   "metadata": {
    "collapsed": false
   }
  },
  {
   "cell_type": "code",
   "execution_count": 24,
   "outputs": [],
   "source": [
    "filename = 'clean_reviews.tsv'\n",
    "df_clean.to_csv(os.path.join(ROOT, 'data', 'preprocessed', filename), sep='\\t', index=False)"
   ],
   "metadata": {
    "collapsed": false
   }
  }
 ],
 "metadata": {
  "kernelspec": {
   "display_name": "Python 3",
   "language": "python",
   "name": "python3"
  },
  "language_info": {
   "codemirror_mode": {
    "name": "ipython",
    "version": 2
   },
   "file_extension": ".py",
   "mimetype": "text/x-python",
   "name": "python",
   "nbconvert_exporter": "python",
   "pygments_lexer": "ipython2",
   "version": "2.7.6"
  }
 },
 "nbformat": 4,
 "nbformat_minor": 0
}
