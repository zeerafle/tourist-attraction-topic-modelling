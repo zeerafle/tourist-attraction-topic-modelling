{
 "cells": [
  {
   "cell_type": "code",
   "execution_count": null,
   "metadata": {
    "collapsed": true
   },
   "outputs": [],
   "source": [
    "from trip_adivsor.constants import ROOT\n",
    "import os\n",
    "\n",
    "import pandas as pd\n",
    "import numpy as np\n",
    "from bertopic import BERTopic\n",
    "from umap import UMAP\n",
    "\n",
    "DATA_PATH = os.path.join(ROOT, 'data', 'preprocessed', 'clean_reviews.tsv')"
   ]
  },
  {
   "cell_type": "code",
   "execution_count": null,
   "outputs": [],
   "source": [
    "df = pd.read_csv(DATA_PATH, sep='\\t')\n",
    "df.head()"
   ],
   "metadata": {
    "collapsed": false
   }
  },
  {
   "cell_type": "code",
   "execution_count": null,
   "outputs": [],
   "source": [
    "# initiate UMAP\n",
    "umap_model = UMAP(n_neighbors=7,\n",
    "                  n_components=7,\n",
    "                  min_dist=0.1,\n",
    "                  metric='cosine',\n",
    "                  random_state=1)\n",
    "\n",
    "# initiate BERTopic\n",
    "topic_model = BERTopic(umap_model=umap_model, calculate_probabilities=True)\n",
    "topics, probabilities = topic_model.fit_transform(df['text'])"
   ],
   "metadata": {
    "collapsed": false
   }
  },
  {
   "cell_type": "code",
   "execution_count": null,
   "outputs": [],
   "source": [
    "topic_model.get_topic_info()"
   ],
   "metadata": {
    "collapsed": false
   }
  }
 ],
 "metadata": {
  "kernelspec": {
   "display_name": "Python 3",
   "language": "python",
   "name": "python3"
  },
  "language_info": {
   "codemirror_mode": {
    "name": "ipython",
    "version": 2
   },
   "file_extension": ".py",
   "mimetype": "text/x-python",
   "name": "python",
   "nbconvert_exporter": "python",
   "pygments_lexer": "ipython2",
   "version": "2.7.6"
  }
 },
 "nbformat": 4,
 "nbformat_minor": 0
}
